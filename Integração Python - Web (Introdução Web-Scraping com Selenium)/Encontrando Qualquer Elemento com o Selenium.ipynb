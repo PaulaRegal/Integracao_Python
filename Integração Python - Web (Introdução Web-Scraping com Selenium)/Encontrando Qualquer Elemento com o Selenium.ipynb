{
 "cells": [
  {
   "cell_type": "markdown",
   "metadata": {},
   "source": [
    "### XPath\n",
    "\n",
    "- Vantagem: Serve para qualquer elemento e é fácil de aplicar\n",
    "- Desvantagem: Dependendo do XPath, alterações mais simples no site podem fazer ele parar de funcionar (coisa que com id e classe é mais difícil de acontecer)"
   ]
  },
  {
   "cell_type": "code",
   "execution_count": 1,
   "metadata": {},
   "outputs": [],
   "source": [
    "\n",
    "from selenium import webdriver\n",
    "\n",
    "driver = webdriver.Chrome()\n",
    "\n",
    "driver.get(\"https://hashtagtreinamentos.com\")"
   ]
  },
  {
   "cell_type": "code",
   "execution_count": 2,
   "metadata": {},
   "outputs": [],
   "source": [
    "#no xpath colocar sempre aspas simples pq dentro do texto pode ser que tenha aspas duplas, vou na pagina, clico onde quero abrir\n",
    "#seleciono inspecionar, clico na setinha, copiar, copiar_xpath\n",
    "driver.find_element_by_xpath('//*[@id=\"fullname\"]').send_keys(\"Paula\") #preencher o campo nome no formulario\n",
    "driver.find_element_by_xpath('//*[@id=\"email\"]').send_keys(\"paulacregal@gmail.com\") #preencher campo email no formulario\n",
    "driver.find_element_by_xpath('//*[@id=\"_form_173_submit\"]').click() #para clicar em enviar"
   ]
  },
  {
   "cell_type": "code",
   "execution_count": null,
   "metadata": {},
   "outputs": [],
   "source": []
  }
 ],
 "metadata": {
  "kernelspec": {
   "display_name": "Python 3",
   "language": "python",
   "name": "python3"
  },
  "language_info": {
   "codemirror_mode": {
    "name": "ipython",
    "version": 3
   },
   "file_extension": ".py",
   "mimetype": "text/x-python",
   "name": "python",
   "nbconvert_exporter": "python",
   "pygments_lexer": "ipython3",
   "version": "3.8.5"
  }
 },
 "nbformat": 4,
 "nbformat_minor": 5
}
