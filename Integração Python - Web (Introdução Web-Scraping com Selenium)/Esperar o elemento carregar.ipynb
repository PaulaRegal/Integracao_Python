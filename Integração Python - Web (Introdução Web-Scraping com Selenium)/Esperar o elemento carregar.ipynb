{
 "cells": [
  {
   "cell_type": "markdown",
   "metadata": {},
   "source": [
    "### Esperar o Elemento carregar\n",
    "\n",
    "2 métodos:\n",
    "\n",
    "- WebDriverWait + ExpectedConditions (EC)\n",
    "    - Nativo do Selenium, menos linhas de código\n",
    "    - Já vi dar bug e mais chatinho de lembrar\n",
    "- Loop de espera\n",
    "    - Criação de uma espera \"manual\"\n",
    "    - Nunca abandona"
   ]
  },
  {
   "cell_type": "code",
   "execution_count": 2,
   "metadata": {},
   "outputs": [
    {
     "name": "stdout",
     "output_type": "stream",
     "text": [
      "Fechou o pop-up\n"
     ]
    }
   ],
   "source": [
    "from selenium import webdriver\n",
    "import time \n",
    "\n",
    "driver = webdriver.Chrome()\n",
    "driver.get(\"https://hashtagtreinamentos.com\")\n",
    "time.sleep(10) # para aguardar 10 segundos antes de executar a proxima linha de codigo\n",
    "driver.find_element_by_class_name(\"eicon-close\").click()\n",
    "print(\"Fechou o pop-up\")"
   ]
  },
  {
   "cell_type": "code",
   "execution_count": 3,
   "metadata": {},
   "outputs": [
    {
     "name": "stdout",
     "output_type": "stream",
     "text": [
      "Fechou o pop-up\n"
     ]
    }
   ],
   "source": [
    "# WebDriverWait e EC (expected conditional)\n",
    "from selenium.webdriver.common.by import By\n",
    "from selenium.webdriver.support.ui import WebDriverWait\n",
    "from selenium.webdriver.support import expected_conditions as EC\n",
    "\n",
    "driver = webdriver.Chrome()\n",
    "driver.get(\"https://hashtagtreinamentos.com\")\n",
    "\n",
    "#elemento é o X que aparece no pop-up para fechar:\n",
    "#WebDriverWait tenho que passar o navegador que é o driver e o tempo maximo de espera\n",
    "elemento = WebDriverWait(driver, 30).until(EC.presence_of_element_located((By.CLASS_NAME, \"eicon-close\")))#tupla\n",
    "time.sleep(1)\n",
    "elemento.click()\n",
    "\n",
    "print(\"Fechou o pop-up\")"
   ]
  },
  {
   "cell_type": "code",
   "execution_count": 4,
   "metadata": {},
   "outputs": [
    {
     "name": "stdout",
     "output_type": "stream",
     "text": [
      "Fechou o pop-up\n"
     ]
    }
   ],
   "source": [
    "# loop\n",
    "driver = webdriver.Chrome()\n",
    "driver.get(\"https://hashtagtreinamentos.com\")\n",
    "\n",
    "while len(driver.find_elements_by_class_name(\"eicon-close\")) == 0:\n",
    "    time.sleep(1)\n",
    "time.sleep(1)\n",
    "driver.find_element_by_class_name(\"eicon-close\").click()\n",
    "\n",
    "print(\"Fechou o pop-up\")"
   ]
  },
  {
   "cell_type": "code",
   "execution_count": null,
   "metadata": {},
   "outputs": [],
   "source": []
  }
 ],
 "metadata": {
  "kernelspec": {
   "display_name": "Python 3",
   "language": "python",
   "name": "python3"
  },
  "language_info": {
   "codemirror_mode": {
    "name": "ipython",
    "version": 3
   },
   "file_extension": ".py",
   "mimetype": "text/x-python",
   "name": "python",
   "nbconvert_exporter": "python",
   "pygments_lexer": "ipython3",
   "version": "3.8.5"
  }
 },
 "nbformat": 4,
 "nbformat_minor": 5
}
