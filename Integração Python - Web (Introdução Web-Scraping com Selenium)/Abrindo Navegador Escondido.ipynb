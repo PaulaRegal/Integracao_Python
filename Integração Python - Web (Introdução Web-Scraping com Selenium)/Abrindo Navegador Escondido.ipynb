{
 "cells": [
  {
   "cell_type": "markdown",
   "metadata": {},
   "source": [
    "# Uma Dica Rápida - Abrir navegador sem mostrar"
   ]
  },
  {
   "cell_type": "code",
   "execution_count": 4,
   "metadata": {},
   "outputs": [
    {
     "name": "stdout",
     "output_type": "stream",
     "text": [
      "Google\n"
     ]
    }
   ],
   "source": [
    "from selenium import webdriver\n",
    "\n",
    "chrome_options = webdriver.ChromeOptions() #cria a variavel chrome_options\n",
    "chrome_options.add_argument('headless') #adiciona o argumento para não aparecer\n",
    "\n",
    "driver = webdriver.Chrome(options=chrome_options)\n",
    "driver.get('http://google.com.br')\n",
    "print(driver.title)"
   ]
  },
  {
   "cell_type": "markdown",
   "metadata": {},
   "source": [
    "# Como funciona \"navegar\" na Web -> Web-Scraping\n",
    "\n",
    "- Parâmetros de URL\n"
   ]
  },
  {
   "cell_type": "code",
   "execution_count": 8,
   "metadata": {},
   "outputs": [],
   "source": [
    "from selenium import webdriver\n",
    "\n",
    "driver = webdriver.Chrome()\n",
    "driver.get('http://google.com.br/search?q=boticario') #seleciona search? e o q=(o que tiver na frente do q=)"
   ]
  }
 ],
 "metadata": {
  "kernelspec": {
   "display_name": "Python 3",
   "language": "python",
   "name": "python3"
  },
  "language_info": {
   "codemirror_mode": {
    "name": "ipython",
    "version": 3
   },
   "file_extension": ".py",
   "mimetype": "text/x-python",
   "name": "python",
   "nbconvert_exporter": "python",
   "pygments_lexer": "ipython3",
   "version": "3.8.5"
  }
 },
 "nbformat": 4,
 "nbformat_minor": 4
}
