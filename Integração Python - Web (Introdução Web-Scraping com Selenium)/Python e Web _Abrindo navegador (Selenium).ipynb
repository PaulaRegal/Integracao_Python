{
 "cells": [
  {
   "cell_type": "markdown",
   "metadata": {},
   "source": [
    "# Integração Python e Web\n",
    "\n",
    "https://selenium-python.readthedocs.io/\n",
    "\n",
    "### Objetivo\n",
    "\n",
    "- Quando integramos o Python com a Web temos 2 objetivos:\n",
    "    1. Automatizar algum processo que seja feito no seu navegador\n",
    "    \n",
    "    2. Puxar informações de sites automaticamente \n",
    "\n",
    "- Selenium -> uma das bibliotecas mais usadas para web-scraping -> navegar na web com código e fazer alguma coisa ou pegar alguma informação. Essa é uma biblioteca diferente, porque ela precisa de um driver no seu computador para funcionar. No caso, usaremos o ChromeDriver \n",
    "\n",
    "Como tudo no Python, existem outras bibliotecas como a BeautifulSoup que podem ajudar em tarefas específicas também, mas vamos focar no Selenium por ser a mais usada e ser muito versátil.\n",
    "\n"
   ]
  },
  {
   "cell_type": "markdown",
   "metadata": {},
   "source": [
    "### Abrindo um navegador\n",
    "\n",
    "Se for usar o Google Chrome tem que baixar primeiro o chromedriver.exe e salvá-lo no explorer dentro da sua pasta anaconda3 \n",
    "(eu utilizo o Jupyter como IDE).\n",
    "Quando for rodar o código abaixo se der o erro: Message: session not created: This version of ChromeDriver only supports Chrome version 87 Current browser version is 93.0.4577.82 with binary path C:\\Program Files (x86)\\Google\\Chrome\\Application\\chrome.exe.\n",
    "\n",
    "Você precisará baixar um chromedriver da mesma versão do seu Chrome.\n",
    "Veja aqui a versão do seu chrome: chrome://settings/help\n",
    "Só importa o primeiro número, 91, 92, 93...\n",
    "Se o Chrome for 91, baixe um chromedriver 91 aqui:\n",
    "https://chromedriver.chromium.org/downloads\n",
    "Após ter baixado, descompacte a pasta e pegue o caminho do chromedriver e salve no explorer dentro da sua pasta anaconda3.\n",
    "\n",
    "\n",
    "\n",
    "\n"
   ]
  },
  {
   "cell_type": "code",
   "execution_count": 5,
   "metadata": {},
   "outputs": [
    {
     "name": "stdout",
     "output_type": "stream",
     "text": [
      "Google\n"
     ]
    }
   ],
   "source": [
    "from selenium import webdriver\n",
    "\n",
    "driver = webdriver.Chrome()\n",
    "driver.get(\"https://www.google.com\")\n",
    "print(driver.title)"
   ]
  }
 ],
 "metadata": {
  "kernelspec": {
   "display_name": "Python 3",
   "language": "python",
   "name": "python3"
  },
  "language_info": {
   "codemirror_mode": {
    "name": "ipython",
    "version": 3
   },
   "file_extension": ".py",
   "mimetype": "text/x-python",
   "name": "python",
   "nbconvert_exporter": "python",
   "pygments_lexer": "ipython3",
   "version": "3.8.5"
  }
 },
 "nbformat": 4,
 "nbformat_minor": 4
}
