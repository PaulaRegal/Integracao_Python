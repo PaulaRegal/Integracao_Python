{
 "cells": [
  {
   "cell_type": "markdown",
   "metadata": {},
   "source": [
    "# Integração Python com Outlook\n",
    "\n",
    "### Funciona para qualquer e-mail: corporativo, gmail, hotmail, etc.\n",
    "\n",
    "- Passo 1: Importar win32 e inicializar o outlook"
   ]
  },
  {
   "cell_type": "code",
   "execution_count": null,
   "metadata": {},
   "outputs": [],
   "source": [
    "import win32com.client as win32\n",
    "outlook = win32.Dispatch('outlook.application')"
   ]
  },
  {
   "cell_type": "markdown",
   "metadata": {},
   "source": [
    "- Passo 2: Escrever o e-mail e disparar"
   ]
  },
  {
   "cell_type": "code",
   "execution_count": null,
   "metadata": {},
   "outputs": [],
   "source": [
    "mail = outlook.CreateItem(0) # criar e-mail\n",
    "mail.To = 'paulacregal@gmail.com'\n",
    "mail.CC = 'paulacregal@yahoo.com.br'\n",
    "mail.BCC = 'alice@gmail.com'\n",
    "mail.Subject = 'Email vindo do Outlook'\n",
    "mail.Body = 'Texto do E-mail' #corpo da mensagem\n",
    "#ou mail.HTMLBody = '<p>Corpo do Email em HTML</p>'\n",
    "\n",
    "# Anexos (pode colocar quantos quiser, tem que passar o caminho inteiro do arquivo):\n",
    "attachment  = r'C:\\Users\\joaop\\Google Drive\\Python Impressionador\\Financeiro.xlsx'\n",
    "mail.Attachments.Add(attachment)\n",
    "\n",
    "mail.Send()"
   ]
  }
 ],
 "metadata": {
  "kernelspec": {
   "display_name": "Python 3",
   "language": "python",
   "name": "python3"
  },
  "language_info": {
   "codemirror_mode": {
    "name": "ipython",
    "version": 3
   },
   "file_extension": ".py",
   "mimetype": "text/x-python",
   "name": "python",
   "nbconvert_exporter": "python",
   "pygments_lexer": "ipython3",
   "version": "3.8.5"
  }
 },
 "nbformat": 4,
 "nbformat_minor": 4
}
