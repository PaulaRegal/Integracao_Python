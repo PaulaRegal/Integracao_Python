{
 "cells": [
  {
   "cell_type": "markdown",
   "metadata": {},
   "source": [
    "### Método Gmail\n",
    "\n",
    "- Você precisa liberar o seu e-mail para esse tipo de atividade. (ou criar um e-mail novo)\n",
    "Para liberar acesso o seu Gmail, clique em conta google(lado superior direito), clique em Segurança, Clique em Acesso a app menos seguro e opção Ativar<br>\n",
    "- Abrir o prompt Anaconda e digitar: pip install yagmail<br> \n"
   ]
  },
  {
   "cell_type": "markdown",
   "metadata": {},
   "source": [
    "# Integração Python com Gmail - Usando yagmail\n",
    "\n",
    "### 2 métodos principais\n",
    "\n",
    "- yagmail.smtp"
   ]
  },
  {
   "cell_type": "raw",
   "metadata": {},
   "source": [
    "usuario = yagmail.SMTP(user='usuario@gmail.com', password='senha')"
   ]
  },
  {
   "cell_type": "markdown",
   "metadata": {},
   "source": [
    "- .send"
   ]
  },
  {
   "cell_type": "raw",
   "metadata": {},
   "source": [
    "usuario.send(to='destinatario', subject='assunto', contents='conteúdo do email')"
   ]
  },
  {
   "cell_type": "markdown",
   "metadata": {},
   "source": [
    "### Enviando E-mail"
   ]
  },
  {
   "cell_type": "code",
   "execution_count": 4,
   "metadata": {},
   "outputs": [
    {
     "data": {
      "text/plain": [
       "{}"
      ]
     },
     "execution_count": 4,
     "metadata": {},
     "output_type": "execute_result"
    }
   ],
   "source": [
    "import yagmail\n",
    "#abaixo coloque seu email real e senha:\n",
    "usuario = yagmail.SMTP(user='paulacregal@gmail.com', password = '##########')\n",
    "\n",
    "#digite os dados da pessoa que receberá o email:\n",
    "usuario.send(to='paulacregal@gmail.com', subject='Meu email no Python', contents='Maravilha! Que bom que deu certo! Happy!')"
   ]
  },
  {
   "cell_type": "markdown",
   "metadata": {},
   "source": [
    "### Enviando E-mail com Anexo(s)"
   ]
  },
  {
   "cell_type": "code",
   "execution_count": 6,
   "metadata": {},
   "outputs": [
    {
     "data": {
      "text/plain": [
       "{}"
      ]
     },
     "execution_count": 6,
     "metadata": {},
     "output_type": "execute_result"
    }
   ],
   "source": [
    "usuario.send(to='paulacregal@gmail.com', subject='Relatório Financeiro', \\\n",
    "             contents='Prezada Paula! /nSegue anexo relatório.\\nAtt.', attachments='Financeiro.xlsx')\n",
    "\n",
    "# \\ -> o python permite que eu de esse \\ e continue escrevendo o codigo na linha debaixo para não ficar muito grande na mesma linha"
   ]
  },
  {
   "cell_type": "markdown",
   "metadata": {},
   "source": [
    "### Cópia, mais de 1 destinatário e outras variações\n",
    "No to= você passa uma lista de e-mails ao invés de apenas um e-mail, a mesma coisa para passar vários anexos, passa todos os anexos em uma lista\n",
    "Para mandar com cópia coloca cc= \"e-mail\"\n",
    "Para mandar com cópia oculta bcc= 'e-mail'"
   ]
  },
  {
   "cell_type": "code",
   "execution_count": 7,
   "metadata": {},
   "outputs": [
    {
     "data": {
      "text/plain": [
       "{}"
      ]
     },
     "execution_count": 7,
     "metadata": {},
     "output_type": "execute_result"
    }
   ],
   "source": [
    "usuario.send(to=['paulacregal@gmail.com', 'fabricio0109@gmail.com'], cc='paulacregal@yahoo.com.br', \\\n",
    "             subject='Meu email no Python', contents='Maravilha! Que bom que deu certo! Happy!')"
   ]
  },
  {
   "cell_type": "markdown",
   "metadata": {},
   "source": [
    "### Personalizando o texto do e-mail\n",
    "\n",
    "- Com Python normal"
   ]
  },
  {
   "cell_type": "code",
   "execution_count": 8,
   "metadata": {},
   "outputs": [
    {
     "data": {
      "text/plain": [
       "{}"
      ]
     },
     "execution_count": 8,
     "metadata": {},
     "output_type": "execute_result"
    }
   ],
   "source": [
    "# 1º forma: Criar uma lista de frases:\n",
    "\n",
    "corpo_email = [\n",
    "    'Olá, tudo bem?',\n",
    "    'Anexo todos os relatórios organizacionais do mês de setembro:',\n",
    "    'Att.,',\n",
    "    'Paula'\n",
    "]\n",
    "corpo_email = '\\n'.join(corpo_email) # para cada frase do corpo_email ficar em uma linha.\n",
    "# A outra opção é em cada linha colocar \\n\n",
    "\n",
    "#2º forma: String de várias linhas:\n",
    "corpo_email = '''\n",
    "Olá, tudo bem?\n",
    "Anexo todos os relatórios organizacionais do mês de setembro:\n",
    "Att.,\n",
    "Paula\n",
    "'''\n",
    "\n",
    "usuario.send(to='paulacregal@gmail.com', subject='Meu email no Python', contents= corpo_email)"
   ]
  },
  {
   "cell_type": "markdown",
   "metadata": {},
   "source": [
    "- Com HTML"
   ]
  },
  {
   "cell_type": "code",
   "execution_count": 9,
   "metadata": {},
   "outputs": [
    {
     "data": {
      "text/plain": [
       "{}"
      ]
     },
     "execution_count": 9,
     "metadata": {},
     "output_type": "execute_result"
    }
   ],
   "source": [
    "corpo_email = '''\n",
    "<p> Olá pessoal!  </p>\n",
    "<b> Show de resultado! Parabéns! </b>\n",
    "'''\n",
    "\n",
    "usuario.send(to='paulacregal@gmail.com', subject='Meu email no Python', contents= corpo_email)"
   ]
  }
 ],
 "metadata": {
  "kernelspec": {
   "display_name": "Python 3",
   "language": "python",
   "name": "python3"
  },
  "language_info": {
   "codemirror_mode": {
    "name": "ipython",
    "version": 3
   },
   "file_extension": ".py",
   "mimetype": "text/x-python",
   "name": "python",
   "nbconvert_exporter": "python",
   "pygments_lexer": "ipython3",
   "version": "3.8.5"
  }
 },
 "nbformat": 4,
 "nbformat_minor": 4
}
