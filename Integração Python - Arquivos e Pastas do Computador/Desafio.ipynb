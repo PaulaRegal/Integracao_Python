{
 "cells": [
  {
   "cell_type": "markdown",
   "metadata": {},
   "source": [
    "### Desafio\n",
    "Você trabalha em uma empresa que tem 18 lojas espalhadas por todo o Brasil e divididas em 5 estados diferentes:\n",
    "\n",
    "RJ\n",
    "SP\n",
    "MG\n",
    "GO\n",
    "AM \n",
    "\n",
    "Todo trimestre, são calculados os indicadores de cada funcionário de cada loja e esses indicadores são armazenados em um arquivo em Excel.\n",
    "\n",
    "Cada estado tem 1 Gerente Geral responsável por todas as lojas daqueles estados.\n",
    "\n",
    "Pediram para você enviar para cada Gerente Geral todas as bases de indicadores correspondentes às lojas que ele é responsável, porque a equipe deles precisa desses indicadores.\n",
    "\n",
    "Obs: Não vamos enviar por e-mail porque ainda não aprendemos a fazer isso, mas vamos deixar todos os arquivos em uma pasta única para cada gerente, ou seja, para cada estado.\n",
    "\n",
    "Então o seu desafio é separar todos os arquivos de forma que cada arquivo esteja na pasta do estado correspondente aquele arquivo.\n",
    "\n",
    "Obs: Para pegar o nome de um arquivo como um texto no pathlib, você pode usar Path.name ou arquivo.name:\n",
    "\n",
    "caminho = Path('Pasta/Arquivo.csv')\n",
    "print(caminho.name) -> resposta: 'Arquivo.csv'"
   ]
  },
  {
   "cell_type": "code",
   "execution_count": 3,
   "metadata": {},
   "outputs": [],
   "source": [
    "from pathlib import Path\n",
    "import shutil\n",
    "\n",
    "# Criar as pastas com cada um dos Estados dentro da pasta Arquivos_lojas:\n",
    "estados = ['RJ', 'SP', 'MG', 'GO', 'AM']\n",
    "for estado in estados:\n",
    "    Path('Arquivos_Lojas/{}'.format(estado)).mkdir()"
   ]
  },
  {
   "cell_type": "markdown",
   "metadata": {},
   "source": [
    "Agora vou inserir cada arquivo em sua respectiva pasta conforme o Estado:"
   ]
  },
  {
   "cell_type": "code",
   "execution_count": 9,
   "metadata": {},
   "outputs": [],
   "source": [
    "caminho = Path('Arquivos_Lojas/')\n",
    "arquivos = caminho.iterdir()\n",
    "for arquivo in arquivos:\n",
    "    nome_arquivo = arquivo.name\n",
    "    if nome_arquivo[-3:] == 'csv':\n",
    "        estado = nome_arquivo[-6:-4]\n",
    "        local_final = caminho / Path('{}/{}'.format(estado, nome_arquivo))\n",
    "        shutil.move(arquivo, local_final)"
   ]
  }
 ],
 "metadata": {
  "kernelspec": {
   "display_name": "Python 3",
   "language": "python",
   "name": "python3"
  },
  "language_info": {
   "codemirror_mode": {
    "name": "ipython",
    "version": 3
   },
   "file_extension": ".py",
   "mimetype": "text/x-python",
   "name": "python",
   "nbconvert_exporter": "python",
   "pygments_lexer": "ipython3",
   "version": "3.8.5"
  }
 },
 "nbformat": 4,
 "nbformat_minor": 4
}
