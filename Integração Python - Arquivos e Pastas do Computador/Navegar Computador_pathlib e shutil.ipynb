{
 "cells": [
  {
   "cell_type": "markdown",
   "metadata": {},
   "source": [
    "# Python e Arquivos do Computador\n",
    "\n",
    "### Módulo os e pathlib\n",
    "\n",
    "Os módulos os e pathlib são uns dos melhores módulos/bibliotecas para controlar as pastas e arquivos do seu computador. Existem alguns outros módulos que podem auxiliar dependendo do que você está querendo fazer, mas em essência conseguiremos usar esses módulos para resolver nossos desafios.\n",
    "\n",
    "Usaremos aqui o pathlib por ele funcionar bem independente do sistema operacional que você está usando.\n",
    "\n",
    "### Atenção Especial\n",
    "\n",
    "Normalmente os caminhos em computadores Windows, Mac ou Linux são diferentes, mas isso é algo que o pathlib vai resolver para a gente\n",
    "\n",
    "### Módulo shutil\n",
    "\n",
    "Para as ações de copiar e colar arquivo, até conseguimos fazer com os módulos os e pathlib, mas é mais difícil e com maior margem de erro. MAS, existe o módulo shutil para ajudar nisso"
   ]
  },
  {
   "cell_type": "markdown",
   "metadata": {},
   "source": [
    "- Importando os Módulos"
   ]
  },
  {
   "cell_type": "raw",
   "metadata": {},
   "source": [
    "from pathlib import Path"
   ]
  },
  {
   "cell_type": "markdown",
   "metadata": {},
   "source": [
    "- Descobrindo onde está o nosso arquivo"
   ]
  },
  {
   "cell_type": "raw",
   "metadata": {},
   "source": [
    "caminho = Path.cwd()"
   ]
  },
  {
   "cell_type": "markdown",
   "metadata": {},
   "source": [
    "- Navegando até uma pasta específica"
   ]
  },
  {
   "cell_type": "raw",
   "metadata": {},
   "source": [
    "caminho = Path('pasta1/pasta2/pasta3/')"
   ]
  },
  {
   "cell_type": "markdown",
   "metadata": {},
   "source": [
    "- Listando todos os arquivos da Pasta Atual"
   ]
  },
  {
   "cell_type": "raw",
   "metadata": {},
   "source": [
    "arquivos = Path.iterdir()"
   ]
  },
  {
   "cell_type": "markdown",
   "metadata": {},
   "source": [
    "- Criando uma pasta"
   ]
  },
  {
   "cell_type": "raw",
   "metadata": {},
   "source": [
    "Path('pasta/nova_pasta').mkdir()"
   ]
  },
  {
   "cell_type": "markdown",
   "metadata": {},
   "source": [
    "- Verificando se um Arquivo Existe"
   ]
  },
  {
   "cell_type": "raw",
   "metadata": {},
   "source": [
    "arquivo = Path('pasta/arquivo.extensao')\n",
    "arquivo.exists()"
   ]
  },
  {
   "cell_type": "markdown",
   "metadata": {},
   "source": [
    "- Copiando um Arquivo"
   ]
  },
  {
   "cell_type": "raw",
   "metadata": {},
   "source": [
    "import shutil\n",
    "shutil.copy2('arquivo_para_copiar.extensao', 'nome_da_copia_criada.extensao')"
   ]
  },
  {
   "cell_type": "markdown",
   "metadata": {},
   "source": [
    "- Movendo um Arquivo"
   ]
  },
  {
   "cell_type": "raw",
   "metadata": {},
   "source": [
    "2 formas:\n",
    "\n",
    "Path('caminho/arquivo.extensao').rename('caminho_novo/arquivo.extensao')<br>\n",
    "\n",
    "ou\n",
    "\n",
    "shutil.move(Path('caminho/arquivo.extensao'), Path('caminho_novo/arquivo.extensao'))"
   ]
  },
  {
   "cell_type": "markdown",
   "metadata": {},
   "source": [
    "### Vamos listar todos os arquivos de uma pasta"
   ]
  },
  {
   "cell_type": "code",
   "execution_count": 2,
   "metadata": {},
   "outputs": [
    {
     "name": "stdout",
     "output_type": "stream",
     "text": [
      "C:\\Users\\Paula\\Documents\\MeusProjetos\\Integração Python e Excel por Pandas ou Openpyxl\\Integração Python - Arquivos e Pastas do Computador\n",
      "Arquivos_Lojas\n",
      "Arquivos_Lojas\\201801_Amazonas Shopping_AM.csv\n",
      "Arquivos_Lojas\\201801_Barra Shopping_RJ.csv\n",
      "Arquivos_Lojas\\201801_BH Shopping_MG.csv\n",
      "Arquivos_Lojas\\201801_Bourbon_SP.csv\n",
      "Arquivos_Lojas\\201801_Buriti Shopping_GO.csv\n",
      "Arquivos_Lojas\\201801_Cidade de Sao Paulo_SP.csv\n",
      "Arquivos_Lojas\\201801_Goiania Shopping_GO.csv\n",
      "Arquivos_Lojas\\201801_Ibirapuera_SP.csv\n",
      "Arquivos_Lojas\\201801_Iguatemi_SP.csv\n",
      "Arquivos_Lojas\\201801_Independência Shopping_MG.csv\n",
      "Arquivos_Lojas\\201801_JK Iguatemi_SP.csv\n",
      "Arquivos_Lojas\\201801_Minas Shopping_MG.csv\n",
      "Arquivos_Lojas\\201801_Morumbi_SP.csv\n",
      "Arquivos_Lojas\\201802_Cidade de Sao Paulo_SP.csv\n",
      "Arquivos_Lojas\\201802_Goiania Shopping_GO.csv\n",
      "Arquivos_Lojas\\201802_Ibirapuera_SP.csv\n",
      "Arquivos_Lojas\\201802_Iguatemi_SP.csv\n",
      "Arquivos_Lojas\\201802_Independência Shopping_MG.csv\n",
      "Arquivos_Lojas\\201802_JK Iguatemi_SP.csv\n",
      "Arquivos_Lojas\\201802_Minas Shopping_MG.csv\n",
      "Arquivos_Lojas\\201802_Morumbi_SP.csv\n",
      "Arquivos_Lojas\\201802_Plaza Shopping_RJ.csv\n",
      "Arquivos_Lojas\\201802_Rio Sul_RJ.csv\n",
      "Arquivos_Lojas\\201802_Shopping Cidade_MG.csv\n",
      "Arquivos_Lojas\\201802_Shopping Leblon_RJ.csv\n",
      "Arquivos_Lojas\\201802_Shopping Tijuca_RJ.csv\n",
      "Arquivos_Lojas\\201803_Amazonas Shopping_AM.csv\n",
      "Arquivos_Lojas\\201803_Barra Shopping_RJ.csv\n",
      "Arquivos_Lojas\\201803_BH Shopping_MG.csv\n",
      "Arquivos_Lojas\\201803_Bourbon_SP.csv\n",
      "Arquivos_Lojas\\201803_Buriti Shopping_GO.csv\n",
      "Arquivos_Lojas\\201803_Cidade de Sao Paulo_SP.csv\n",
      "Arquivos_Lojas\\201803_Goiania Shopping_GO.csv\n",
      "Arquivos_Lojas\\201803_Ibirapuera_SP.csv\n",
      "Arquivos_Lojas\\201803_Iguatemi_SP.csv\n",
      "Arquivos_Lojas\\201803_Independência Shopping_MG.csv\n",
      "Arquivos_Lojas\\201803_JK Iguatemi_SP.csv\n",
      "Arquivos_Lojas\\201803_Minas Shopping_MG.csv\n",
      "Arquivos_Lojas\\201803_Morumbi_SP.csv\n"
     ]
    }
   ],
   "source": [
    "from pathlib import Path # Path é o comando que trata os caminhos do computador\n",
    "\n",
    "print(Path.cwd()) \n",
    "\n",
    "#sempre os separadores de pastas serão uma barra normal\n",
    "caminho = Path('Arquivos_Lojas')\n",
    "print(caminho)\n",
    "arquivos = caminho.iterdir()\n",
    "for arquivo in arquivos:\n",
    "    print(arquivo)"
   ]
  },
  {
   "cell_type": "markdown",
   "metadata": {},
   "source": [
    "### Agora, vamos verificar se um arquivo que estamos procurando existe na pasta"
   ]
  },
  {
   "cell_type": "code",
   "execution_count": 5,
   "metadata": {},
   "outputs": [
    {
     "name": "stdout",
     "output_type": "stream",
     "text": [
      "Este arquivo existe nesta pasta\n"
     ]
    }
   ],
   "source": [
    "#variavel caminho é um path e depois da barra é um path também\n",
    "#neste caso estou juntando minha pasta com o arquivo e coloco .exists() para verificar se existe o arquivo na pasta\n",
    "if (caminho / Path('201803_Morumbi_SP.csv')).exists():\n",
    "    print('Este arquivo existe nesta pasta')"
   ]
  },
  {
   "cell_type": "markdown",
   "metadata": {},
   "source": [
    "### Criando uma nova pasta"
   ]
  },
  {
   "cell_type": "code",
   "execution_count": 10,
   "metadata": {},
   "outputs": [],
   "source": [
    "#se quiser criar um arquivo dentro de uma nova pasta \n",
    "Path('Nova Pasta/Pasta1').mkdir()\n"
   ]
  },
  {
   "cell_type": "markdown",
   "metadata": {},
   "source": [
    "### Criando uma cópia do nosso arquivo na nova pasta que criamos"
   ]
  },
  {
   "cell_type": "code",
   "execution_count": 13,
   "metadata": {},
   "outputs": [
    {
     "data": {
      "text/plain": [
       "WindowsPath('Nova Pasta/201801_Amazonas Shopping_AM.csv')"
      ]
     },
     "execution_count": 13,
     "metadata": {},
     "output_type": "execute_result"
    }
   ],
   "source": [
    "import shutil\n",
    "#shutil.copy2('arquivo_para_copiar.extensao', 'nome_da_copia_criada.extensao')\n",
    "arquivo_copiar = Path('Arquivos_Lojas/201801_Amazonas Shopping_AM.csv')\n",
    "arquivo_colar = Path('Nova Pasta/201801_Amazonas Shopping_AM.csv')\n",
    "shutil.copy2(arquivo_copiar, arquivo_colar)"
   ]
  },
  {
   "cell_type": "markdown",
   "metadata": {},
   "source": [
    "### Movendo um arquivo de um lugar para o outro"
   ]
  },
  {
   "cell_type": "code",
   "execution_count": 17,
   "metadata": {},
   "outputs": [
    {
     "data": {
      "text/plain": [
       "WindowsPath('Nova Pasta/Pasta1/201801_Amazonas Shopping_AM.csv')"
      ]
     },
     "execution_count": 17,
     "metadata": {},
     "output_type": "execute_result"
    }
   ],
   "source": [
    "# vou mover o arquivo acima para a Pasta1\n",
    "#shutil.move(arquivo_para_mover, arquivo_onde_colar)\n",
    "shutil.move(Path('Nova Pasta/201801_Amazonas Shopping_AM.csv'), Path ('Nova Pasta/Pasta1/201801_Amazonas Shopping_AM.csv'))"
   ]
  }
 ],
 "metadata": {
  "kernelspec": {
   "display_name": "Python 3",
   "language": "python",
   "name": "python3"
  },
  "language_info": {
   "codemirror_mode": {
    "name": "ipython",
    "version": 3
   },
   "file_extension": ".py",
   "mimetype": "text/x-python",
   "name": "python",
   "nbconvert_exporter": "python",
   "pygments_lexer": "ipython3",
   "version": "3.8.5"
  }
 },
 "nbformat": 4,
 "nbformat_minor": 4
}
