{
 "cells": [
  {
   "cell_type": "markdown",
   "metadata": {},
   "source": [
    "# Integração Python + Excel\n",
    "\n",
    "### 2 formas:\n",
    "\n",
    "1. Pandas\n",
    "    - Mais usada no geral\n",
    "    - Trata o Excel como uma base de dados\n",
    "    - Faz o que quiser com o arquivo\n",
    "    - Pode desfazer a estrutura original do arquivo, caso queira editar\n",
    "    \n",
    "2. Openpyxl\n",
    "    - Trata o Excel como uma planilha mesmo que pode ter várias coisas\n",
    "    - Edita \"como se fosse um VBA\"\n",
    "    - Menos eficiente\n",
    "    - Mantém mais a estrutura original do arquivo, mas cuidado porque não necessariamente tudo, então tem que testar"
   ]
  },
  {
   "cell_type": "markdown",
   "metadata": {},
   "source": [
    "### Desafio\n",
    "\n",
    "- Temos uma planilha de produtos e serviços. Com o aumento de imposto sobre os serviços, temos que atualizar o preço dos produtos impactados pela mudança.\n",
    "\n",
    "Novo Multiplicador Imposto: 1.5"
   ]
  },
  {
   "cell_type": "code",
   "execution_count": 2,
   "metadata": {
    "scrolled": true
   },
   "outputs": [
    {
     "data": {
      "text/html": [
       "<div>\n",
       "<style scoped>\n",
       "    .dataframe tbody tr th:only-of-type {\n",
       "        vertical-align: middle;\n",
       "    }\n",
       "\n",
       "    .dataframe tbody tr th {\n",
       "        vertical-align: top;\n",
       "    }\n",
       "\n",
       "    .dataframe thead th {\n",
       "        text-align: right;\n",
       "    }\n",
       "</style>\n",
       "<table border=\"1\" class=\"dataframe\">\n",
       "  <thead>\n",
       "    <tr style=\"text-align: right;\">\n",
       "      <th></th>\n",
       "      <th>Produtos</th>\n",
       "      <th>Preço Base Original</th>\n",
       "      <th>Tipo</th>\n",
       "      <th>Multiplicador Imposto</th>\n",
       "      <th>Preço Base Reais</th>\n",
       "    </tr>\n",
       "  </thead>\n",
       "  <tbody>\n",
       "    <tr>\n",
       "      <th>0</th>\n",
       "      <td>Tablet</td>\n",
       "      <td>999.99</td>\n",
       "      <td>Produto</td>\n",
       "      <td>1.1</td>\n",
       "      <td>1099.989</td>\n",
       "    </tr>\n",
       "    <tr>\n",
       "      <th>1</th>\n",
       "      <td>Pós Graduação</td>\n",
       "      <td>4500.00</td>\n",
       "      <td>Serviço</td>\n",
       "      <td>1.3</td>\n",
       "      <td>5850.000</td>\n",
       "    </tr>\n",
       "    <tr>\n",
       "      <th>2</th>\n",
       "      <td>Celular</td>\n",
       "      <td>899.99</td>\n",
       "      <td>Produto</td>\n",
       "      <td>1.1</td>\n",
       "      <td>989.989</td>\n",
       "    </tr>\n",
       "    <tr>\n",
       "      <th>3</th>\n",
       "      <td>Passagem Aérea</td>\n",
       "      <td>799.00</td>\n",
       "      <td>Serviço</td>\n",
       "      <td>1.3</td>\n",
       "      <td>1038.700</td>\n",
       "    </tr>\n",
       "    <tr>\n",
       "      <th>4</th>\n",
       "      <td>Computador</td>\n",
       "      <td>3000.00</td>\n",
       "      <td>Produto</td>\n",
       "      <td>1.1</td>\n",
       "      <td>3300.000</td>\n",
       "    </tr>\n",
       "    <tr>\n",
       "      <th>5</th>\n",
       "      <td>SPA</td>\n",
       "      <td>480.48</td>\n",
       "      <td>Serviço</td>\n",
       "      <td>1.3</td>\n",
       "      <td>624.624</td>\n",
       "    </tr>\n",
       "    <tr>\n",
       "      <th>6</th>\n",
       "      <td>Corte Cabelo</td>\n",
       "      <td>50.00</td>\n",
       "      <td>Serviço</td>\n",
       "      <td>1.3</td>\n",
       "      <td>65.000</td>\n",
       "    </tr>\n",
       "  </tbody>\n",
       "</table>\n",
       "</div>"
      ],
      "text/plain": [
       "         Produtos  Preço Base Original     Tipo  Multiplicador Imposto  \\\n",
       "0          Tablet               999.99  Produto                    1.1   \n",
       "1   Pós Graduação              4500.00  Serviço                    1.3   \n",
       "2         Celular               899.99  Produto                    1.1   \n",
       "3  Passagem Aérea               799.00  Serviço                    1.3   \n",
       "4      Computador              3000.00  Produto                    1.1   \n",
       "5             SPA               480.48  Serviço                    1.3   \n",
       "6    Corte Cabelo                50.00  Serviço                    1.3   \n",
       "\n",
       "   Preço Base Reais  \n",
       "0          1099.989  \n",
       "1          5850.000  \n",
       "2           989.989  \n",
       "3          1038.700  \n",
       "4          3300.000  \n",
       "5           624.624  \n",
       "6            65.000  "
      ]
     },
     "metadata": {},
     "output_type": "display_data"
    }
   ],
   "source": [
    "# pandas\n",
    "import pandas as pd\n",
    "\n",
    "tabela = pd.read_excel(\"Produtos.xlsx\")\n",
    "display(tabela)"
   ]
  },
  {
   "cell_type": "code",
   "execution_count": 5,
   "metadata": {},
   "outputs": [],
   "source": [
    "# fazendo pelo pandas: \n",
    "#atualizando o multiplicador:\n",
    "#passar no .loc qual a linha e coluna que quero editar:\n",
    "tabela.loc[tabela[\"Tipo\"] ==\"Serviço\", \"Multiplicador Imposto\"] = 1.5 \n",
    "\n",
    "\n",
    "#fazer a conta do Preço Base Reais:\n",
    "tabela[\"Preço Base Reais\"] = tabela[\"Multiplicador Imposto\"] * tabela[\"Preço Base Original\"]\n",
    "\n",
    "#vamos salvar esse arquivo em excel:\n",
    "tabela.to_excel(\"ProdutosPandas.xlsx\", index=False) \n",
    "#por padrão no novo excel vai estar a coluna de indice, se não desejar ve-la coloque index=False, conforme acima\n",
    "#(arquivo ProdutosPandas perdeu o grafico e a configuração inicial da planilha Produtos)"
   ]
  },
  {
   "cell_type": "code",
   "execution_count": null,
   "metadata": {},
   "outputs": [],
   "source": []
  },
  {
   "cell_type": "code",
   "execution_count": 9,
   "metadata": {},
   "outputs": [],
   "source": [
    "# openpyxl : \n",
    "from openpyxl import Workbook, load_workbook\n",
    "\n",
    "planilha = load_workbook(\"Produtos.xlsx\")\n",
    "\n",
    "#tem que informar qual a aba ativa da planilha com a informação:\n",
    "aba_ativa = planilha.active \n",
    "\n",
    "#dento do colchete tenho que passar em qual coluna quero a informação:\n",
    "for celula in aba_ativa[\"C\"]:\n",
    "    if celula.value == \"Serviço\":\n",
    "        linha = celula.row #vai me dar a linha que eu quero editar\n",
    "        aba_ativa[f\"D{linha}\"] = 1.5\n",
    "        \n",
    "planilha.save(\"ProdutosOpenPy.xlsx\")\n",
    "# (pelo openpyxl manteve-se o grafico da planilha original e a formula da coluna Preço Base Reais)"
   ]
  },
  {
   "cell_type": "code",
   "execution_count": null,
   "metadata": {},
   "outputs": [],
   "source": []
  }
 ],
 "metadata": {
  "kernelspec": {
   "display_name": "Python 3",
   "language": "python",
   "name": "python3"
  },
  "language_info": {
   "codemirror_mode": {
    "name": "ipython",
    "version": 3
   },
   "file_extension": ".py",
   "mimetype": "text/x-python",
   "name": "python",
   "nbconvert_exporter": "python",
   "pygments_lexer": "ipython3",
   "version": "3.8.5"
  }
 },
 "nbformat": 4,
 "nbformat_minor": 5
}
